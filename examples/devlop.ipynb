{
 "cells": [
  {
   "cell_type": "code",
   "execution_count": null,
   "metadata": {},
   "outputs": [],
   "source": [
    "%matplotlib ipympl\n",
    "import matplotlib.pyplot as plt\n",
    "import numpy as np\n",
    "from mpl_interactions import zoom_factory, panhandler\n",
    "%load_ext autoreload\n",
    "%autoreload 2\n",
    "import laser_pointer as lp"
   ]
  },
  {
   "cell_type": "code",
   "execution_count": null,
   "metadata": {},
   "outputs": [],
   "source": [
    "bf = plt.imread('img_channel000_position000_time000000000_z000.tif')\n",
    "rm = np.loadtxt('numpy-grid-75.dat')[:-1].reshape(75,75,1340)\n",
    "volts = np.linspace(-.3,.3,75) # same for x and y\n",
    "lp.pointer(bf)"
   ]
  },
  {
   "cell_type": "code",
   "execution_count": null,
   "metadata": {},
   "outputs": [],
   "source": [
    "lp_rm = lp.pointer(rm[:,:,664])"
   ]
  },
  {
   "cell_type": "code",
   "execution_count": null,
   "metadata": {},
   "outputs": [],
   "source": [
    "fig, axes = plt.subplots(1,2,figsize=(12,5))\n",
    "# panhandler(fig)\n",
    "# zoom_factory(axes[0])\n",
    "lp_bf = lp.pointer(bf, axes[0])\n",
    "lp_rm = lp.pointer(rm[:,:,664], axes[1], X = volts,Y=volts, radius=.005)"
   ]
  },
  {
   "cell_type": "markdown",
   "metadata": {},
   "source": [
    "## Next steps\n",
    "\n",
    "For a less tired time\n",
    "\n",
    "- [x] make linregress gogogo\n",
    "- autogenerate the mapping function\n",
    "- overlay of plots as a sanity check\n",
    "    - just apply mapping to the voltage values and then pcolormesh\n",
    "        - maybe with a tranpose? who knows...\n",
    "- save the transform somehow so don't need to redo every time\n",
    "- pointer can accept a transform function\n",
    "    - when given it is able to output a list of voltages that should be usable by matlab"
   ]
  },
  {
   "cell_type": "code",
   "execution_count": null,
   "metadata": {},
   "outputs": [],
   "source": [
    "\n",
    "from scipy.stats import linregress"
   ]
  },
  {
   "cell_type": "code",
   "execution_count": null,
   "metadata": {},
   "outputs": [],
   "source": [
    "bf_x = lp_bf.click_handler.Xs\n",
    "bf_y = lp_bf.click_handler.Ys\n",
    "rm_x = lp_rm.click_handler.Xs\n",
    "rm_y = lp_rm.click_handler.Ys\n",
    "rm_y"
   ]
  },
  {
   "cell_type": "code",
   "execution_count": null,
   "metadata": {},
   "outputs": [],
   "source": [
    "plt.figure()\n",
    "plt.plot(bf_x, rm_x,'o')\n",
    "plt.plot(bf_y, rm_y,'o')"
   ]
  },
  {
   "cell_type": "code",
   "execution_count": null,
   "metadata": {},
   "outputs": [],
   "source": [
    "lp_new = lp.pointer(bf)"
   ]
  },
  {
   "cell_type": "code",
   "execution_count": null,
   "metadata": {},
   "outputs": [],
   "source": [
    "slope_x, intercept_x, r_value, p_value, std_err  = linregress(bf_x, rm_x)\n",
    "slope_y, intercept_y, r_value, p_value, std_err  = linregress(bf_y, rm_y)"
   ]
  },
  {
   "cell_type": "code",
   "execution_count": null,
   "metadata": {},
   "outputs": [],
   "source": [
    "def bfx_to_rmx(x):\n",
    "    x = np.asarray(x)\n",
    "    return slope_x*x + intercept_x\n",
    "def bfy_to_rmy(y):\n",
    "    y = np.asarray(y)\n",
    "    return slope_y*y + intercept_y"
   ]
  },
  {
   "cell_type": "code",
   "execution_count": null,
   "metadata": {},
   "outputs": [],
   "source": [
    "xs = bfx_to_rmx(lp_new.click_handler.Xs)\n",
    "ys = bfx_to_rmx(lp_new.click_handler.Ys)"
   ]
  },
  {
   "cell_type": "code",
   "execution_count": null,
   "metadata": {},
   "outputs": [],
   "source": [
    "fig, ax = plt.subplots()\n",
    "ax.pcolormesh(volts, volts, rm[:,:,664], shading='nearest')\n",
    "plt.scatter(xs,ys,color='red')\n"
   ]
  },
  {
   "cell_type": "code",
   "execution_count": null,
   "metadata": {},
   "outputs": [],
   "source": [
    "xs"
   ]
  },
  {
   "cell_type": "code",
   "execution_count": null,
   "metadata": {},
   "outputs": [],
   "source": []
  }
 ],
 "metadata": {
  "kernelspec": {
   "display_name": "Python 3",
   "language": "python",
   "name": "python3"
  },
  "language_info": {
   "codemirror_mode": {
    "name": "ipython",
    "version": 3
   },
   "file_extension": ".py",
   "mimetype": "text/x-python",
   "name": "python",
   "nbconvert_exporter": "python",
   "pygments_lexer": "ipython3",
   "version": "3.8.3"
  }
 },
 "nbformat": 4,
 "nbformat_minor": 4
}
